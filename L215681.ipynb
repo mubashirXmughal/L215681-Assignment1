
# =============================================================================
# def check_input(arr):
#     count1 = 0
#     count = 0
#     x = len(arr[0])
#     for i in range(0,x):
#         for j in range(1,x):
#             if(arr[i][0]==arr[i][j] or type(arr[i][j])==str):
#                 count1 = count1 + 1
#     
#     for j in range(0,3):
#         for i in range(1,3):
#             if(arr[0][j]==arr[i][j] or type(arr[i][j])==str):
#                 count = count + 1
#     if(count1==0 and count==0):
#         return True
#     else:
#         return False
#     
#     
#     # run this block to test code after defining the procedure
# 
# test1 = [[1, 2, 3],
#         [2, 3, 1],
#         [3, 1, 2]]
# 
# test2 = [[1, 2, 3, 4],
#         [2, 3, 1, 3],
#         [3, 1, 2, 3],
#         [4, 4, 4, 4]]
# 
# test3 = [['a', 'b', 'c'],
#         ['b', 'c', 'a'],
#         ['c', 'a', 'b']]
# 
# print(check_input(test1)) # must return true
# print(check_input(test2)) # must return false
# print(check_input(test3)) # must return false
# 
# 
# =============================================================================







#################################Q2####################################




# =============================================================================
# import pandas as pd
# df=pd.read_csv("StudentMarkSheet.csv")
# print(df)
# df.info()
# 
# print("NUMBER OF ROWS IN THE DATAFRAME",len(df))
# df=df.dropna(how='all')
# x=len(df)
# print("AFTER DROPING THE ROWN THAT CONTAIN All NULL VALUE = ",len(df))
# df=df.dropna(how='any')
# y=len(df)
# print("AFTER DROPING THE ROWN THAT CONTAIN ANY NULL VALUE = ",len(df))
# print("THE NUMBER OF ROWS THAT CONTAIN ANY NULL VALUE = ",x-y)
# 
# 
# print(df[df['Student name']=='James Walker'])
# 
# =============================================================================


#######################################Q3######################################


# =============================================================================
# import pandas as pd
# import matplotlib.pyplot as plt
# df=pd.read_csv("StudentMarkSheet.csv")
# df=df.dropna(how='any')
# 
# 
# avgbio=df[df["Exam name"]=="Biology"]
# print(avgbio)
# avgbio=avgbio["Marks"]
# avgbio=(avgbio.sum())/(len(avgbio))
# print("THE AVERAGE OF BIOLOGY MARKS IS = ",avgbio)
# 
# 
# avgchem=df[df["Exam name"]=="Chemistry"]
# print(avgchem)
# avgchem=avgchem["Marks"]
# avgchem=(avgchem.sum())/(len(avgchem))
# print("THE AVERAGE OF CHEMISTRY MARKS IS = ",avgchem)
# 
# 
# avgmath=df[df["Exam name"]=="Mathematics"]
# print(avgmath)
# avgmath=avgmath["Marks"]
# avgmath=(avgmath.sum())/(len(avgmath))
# print("THE AVERAGE OF MATHEMATICS MARKS IS = ",avgmath)
# 
# 
# avgphil=df[df["Exam name"]=="Philosophy"]
# print(avgphil)
# avgphil=avgphil["Marks"]
# avgphil=(avgphil.sum())/(len(avgphil))
# print("THE AVERAGE OF PHILOSOPHY MARKS IS = ",avgphil)
# 
# 
# avgphs=df[df["Exam name"]=="Physics"]
# print(avgphs)
# avgphs=avgphs["Marks"]
# avgphs=(avgphs.sum())/(len(avgphs))
# print("THE AVERAGE OF PHYSICS MARKS IS = ",avgphs)
# 
# 
# avgsoc=df[df["Exam name"]=="Sociology"]
# print(avgsoc)
# avgsoc=avgsoc["Marks"]
# avgsoc=(avgsoc.sum())/(len(avgsoc))
# print("THE AVERAGE OF PHILOSOPHY MARKS IS = ",avgsoc)
# 
# subject=["BIO","CHEM","PHYS","SOCIO","MATHE","PHIL"]
# average=[avgbio,avgchem,avgphs,avgsoc,avgmath,avgphil]
# plt.bar(subject,average,fc="blue")
# plt.show()
# 
# 
# =============================================================================

###################################Q4######################################







# =============================================================================
# import pandas as pd 
# import numpy as np
# import matplotlib.pyplot as plt
# from sklearn import linear_model
# data=pd.read_csv("CatData.csv")
# data.head()
# dfata=data.dropna()
# print(data)
# 
# num=int(len(data)*0.8)
# train =data[:num]
# test=data[num:]
# 
# reg = linear_model.LinearRegression()
# train_x = np.array(train[["Tail Length (cm)"]])
# train_y = np.array(train[["Mass (kg)"]])
# reg.fit(train_x,train_y)
# coeff = reg.coef_
# inter = reg.intercept_
# print("Slope: ", coeff)
# print("Intercept: ",inter)
# 
# plt.xlabel("Tail Length (cm)")
# plt.ylabel("Mass (kg)")
# plt.title("Tail Length vs Mass")
# plt.scatter(train["Tail Length (cm)"],train["Mass (kg)"])
# plt.plot(train_x,train_x*coeff[0]+inter, color = 'Red')
# plt.show()
# =============================================================================
